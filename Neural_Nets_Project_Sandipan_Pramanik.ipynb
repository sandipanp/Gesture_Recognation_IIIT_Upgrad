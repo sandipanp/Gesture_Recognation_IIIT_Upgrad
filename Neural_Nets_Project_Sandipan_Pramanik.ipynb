{
 "cells": [
  {
   "cell_type": "markdown",
   "metadata": {},
   "source": [
    "# Gesture Recognition\n",
    "In this group project, you are going to build a 3D Conv model that will be able to predict the 5 gestures correctly. Please import the following libraries to get started."
   ]
  },
  {
   "cell_type": "code",
   "execution_count": 1,
   "metadata": {},
   "outputs": [],
   "source": [
    "import numpy as np\n",
    "import os\n",
    "#from scipy.misc import imread, imresize  # I am trying skimage.io and skimage.transformed \n",
    "import datetime\n",
    "import os\n",
    "\n",
    "from skimage.io import imread\n",
    "from skimage.transform import resize as imresize"
   ]
  },
  {
   "cell_type": "markdown",
   "metadata": {},
   "source": [
    "We set the random seed so that the results don't vary drastically."
   ]
  },
  {
   "cell_type": "code",
   "execution_count": 2,
   "metadata": {},
   "outputs": [],
   "source": [
    "np.random.seed(30)\n",
    "import random as rn\n",
    "rn.seed(30)\n",
    "from keras import backend as K\n",
    "import tensorflow as tf\n",
    "#tf.set_random_seed(30)\n",
    "tf.random.set_seed(30)"
   ]
  },
  {
   "cell_type": "markdown",
   "metadata": {},
   "source": [
    "In this block, you read the folder names for training and validation. You also set the `batch_size` here. Note that you set the batch size in such a way that you are able to use the GPU in full capacity. You keep increasing the batch size until the machine throws an error."
   ]
  },
  {
   "cell_type": "code",
   "execution_count": 3,
   "metadata": {},
   "outputs": [],
   "source": [
    "train_doc = np.random.permutation(open('Project_data/train.csv').readlines())\n",
    "val_doc = np.random.permutation(open('Project_data//val.csv').readlines())\n",
    "batch_size = 16 #experiment with the batch size"
   ]
  },
  {
   "cell_type": "code",
   "execution_count": 4,
   "metadata": {},
   "outputs": [
    {
     "name": "stdout",
     "output_type": "stream",
     "text": [
      "Number of training Doc :  663\n",
      "Number of validation Doc :  100\n"
     ]
    }
   ],
   "source": [
    "#Checking if the files is been read properly or not\n",
    "#train_doc\n",
    "print(\"Number of training Doc : \",len(train_doc))\n",
    "\n",
    "#val_doc\n",
    "print(\"Number of validation Doc : \", len(val_doc))\n",
    "\n",
    "#img_idx = #create a list of image numbers you want to use for a particular video\n",
    "#img_idx = [5,10,20,25]\n",
    "#img_idx = [1,3,5,7,9,11,13,15,17,19,21,23,25,27]\n",
    "#img_idx = [0,4,8,12,16,20,24,28]\n",
    "\n",
    "# selecting alternate frames from 1 to 26.\n",
    "seq_idx = range(1,26,4)\n",
    "#print(len(img_idx))\n",
    "\n",
    "image_height = 64\n",
    "image_width = 64"
   ]
  },
  {
   "cell_type": "markdown",
   "metadata": {},
   "source": [
    "## Generator\n",
    "This is one of the most important part of the code. The overall structure of the generator has been given. In the generator, you are going to preprocess the images as you have images of 2 different dimensions as well as create a batch of video frames. You have to experiment with `img_idx`, `y`,`z` and normalization such that you get high accuracy."
   ]
  },
  {
   "cell_type": "code",
   "execution_count": 5,
   "metadata": {},
   "outputs": [],
   "source": [
    "def generator(source_path, folder_list, batch_size):\n",
    "    print( '\\nSource path = ', source_path, '; batch size =', batch_size)\n",
    "    #img_idx = #create a list of image numbers you want to use for a particular video\n",
    "    \n",
    "    img_idx = seq_idx #[0,4,8,12,16,20,24,28] #[1,3,5,7,9,11,13,15,17,19,21,23,25,27]  #[5,10,20,25] # taken 14 image [0,4,8,12,16,20,24,28]\n",
    "    while True:\n",
    "        t = np.random.permutation(folder_list)\n",
    "        #num_batches = # calculate the number of batches\n",
    "        num_batches = int(len(folder_list)/batch_size) # casting to integer\n",
    "        #num_batches = len(folder_list)/batch_size # casting to integer\n",
    "        #print(\"I am here in 1st loop \")\n",
    "        for batch in range(num_batches): # we iterate over the number of batches\n",
    "            #batch_data = np.zeros((batch_size,x,y,z,3)) # x is the number of images you use for each video, (y,z) is the final size of the input images and 3 is the number of channels RGB\n",
    "            #batch_labels = np.zeros((batch_size,5)) # batch_labels is the one hot representation of the output\n",
    "            \n",
    "            batch_data = np.zeros((batch_size,len(img_idx),image_height,image_width,3)) # x is the number of images you use for each video, (y,z) is the final size of the input images and 3 is the number of channels RGB\n",
    "            batch_labels = np.zeros((batch_size,5)) # batch_labels is the one hot representation of the output\n",
    "            \n",
    "            #print(\"I am here in 2nd loop \")\n",
    "            for folder in range(batch_size): # iterate over the batch_size\n",
    "                #print(\"Batch Size : \",batch_size)\n",
    "                #print(batch*batch_size)\n",
    "                #print\n",
    "                #print(\"Source path : \",source_path)\n",
    "                #print(source_path+'/'+ t[folder + (batch*batch_size)].split(';')[0])\n",
    "                imgs = os.listdir(source_path+'/'+ t[folder + (batch*batch_size)].split(';')[0]) # read all the images in the folder\n",
    "                #print(\"Images :\",imgs)\n",
    "                #print(\"I am here in 3rd loop \")\n",
    "                for idx,item in enumerate(img_idx): #  Iterate iver the frames/images of a folder to read them in\n",
    "                    image = imread(source_path+'/'+ t[folder + (batch*batch_size)].strip().split(';')[0]+'/'+imgs[item]).astype(np.float32)\n",
    "                    \n",
    "                    #crop the images and resize them. Note that the images are of 2 different shape \n",
    "                    #and the conv3D will throw error if the inputs in a batch have different shapes\n",
    "                    #image = image.resize(64,64)\n",
    "                    image = image.resize(image_height,image_width)\n",
    "                    \n",
    "                    batch_data[folder,idx,:,:,0] /= 255   #normalise and feed in the image\n",
    "                    batch_data[folder,idx,:,:,1] /= 255   #normalise and feed in the image\n",
    "                    batch_data[folder,idx,:,:,2] /= 255   #normalise and feed in the image\n",
    "                    #print(\"I am here in 4th loop \")\n",
    "                batch_labels[folder, int(t[folder + (batch*batch_size)].strip().split(';')[2])] = 1\n",
    "            #print(\"I am yielding\")\n",
    "            yield batch_data, batch_labels #you yield the batch_data and the batch_labels, remember what does yield do\n",
    "\n",
    "        \n",
    "        # write the code for the remaining data points which are left after full batches\n",
    "        #If batch number is not whole number, we will ad 1 to it and take cast it to integer to interate one more time to cover remaining folders\n",
    "        '''\n",
    "        if (len(folder_list)/batch_size).is_integer() :\n",
    "            num_batches = int(folder_list/batch_size)\n",
    "        else:\n",
    "            num_batches = int((len(folder_list)/batch_size)+1)\n",
    "        '''"
   ]
  },
  {
   "cell_type": "markdown",
   "metadata": {},
   "source": [
    "Note here that a video is represented above in the generator as (number of images, height, width, number of channels). Take this into consideration while creating the model architecture."
   ]
  },
  {
   "cell_type": "code",
   "execution_count": 6,
   "metadata": {},
   "outputs": [
    {
     "name": "stdout",
     "output_type": "stream",
     "text": [
      "# training sequences = 663\n",
      "# validation sequences = 100\n",
      "# epochs = 5\n"
     ]
    }
   ],
   "source": [
    "curr_dt_time = datetime.datetime.now()\n",
    "#train_path = '/notebooks/storage/Final_data/Collated_training/train'\n",
    "#val_path = '/notebooks/storage/Final_data/Collated_training/val'\n",
    "\n",
    "train_path = 'Project_data/train'\n",
    "val_path = 'Project_data/val'\n",
    "\n",
    "num_train_sequences = len(train_doc)\n",
    "print('# training sequences =', num_train_sequences)\n",
    "num_val_sequences = len(val_doc)\n",
    "print('# validation sequences =', num_val_sequences)\n",
    "num_epochs = 5 # choose the number of epochs\n",
    "print ('# epochs =', num_epochs)"
   ]
  },
  {
   "cell_type": "markdown",
   "metadata": {},
   "source": [
    "## Model\n",
    "Here you make the model using different functionalities that Keras provides. Remember to use `Conv3D` and `MaxPooling3D` and not `Conv2D` and `Maxpooling2D` for a 3D convolution model. You would want to use `TimeDistributed` while building a Conv2D + RNN model. Also remember that the last layer is the softmax. Design the network in such a way that the model is able to give good accuracy on the least number of parameters so that it can fit in the memory of the webcam."
   ]
  },
  {
   "cell_type": "markdown",
   "metadata": {},
   "source": [
    "### Model Building :  Using CNN  CONV3D"
   ]
  },
  {
   "cell_type": "code",
   "execution_count": 7,
   "metadata": {},
   "outputs": [],
   "source": [
    "#Conv3D?"
   ]
  },
  {
   "cell_type": "code",
   "execution_count": 8,
   "metadata": {},
   "outputs": [],
   "source": [
    "Input_shape = (len(seq_idx),image_height,image_width,3) # RGB image has 3 channel"
   ]
  },
  {
   "cell_type": "code",
   "execution_count": 9,
   "metadata": {},
   "outputs": [],
   "source": [
    "from keras.models import Sequential, Model\n",
    "from keras.layers import Dense, GRU, Flatten, TimeDistributed, Flatten, BatchNormalization, Activation\n",
    "from keras.layers.convolutional import Conv3D, MaxPooling3D\n",
    "from keras.callbacks import ModelCheckpoint, ReduceLROnPlateau\n",
    "from keras import optimizers\n",
    "from tensorflow.keras import layers\n",
    "\n",
    "#write your model here\n",
    "\n",
    "\n",
    "num_classes =  5\n",
    "\n",
    "cnn_conv3d_model = Sequential([\n",
    "    layers.Conv3D(32, (3,3,3), padding='same', input_shape=Input_shape, activation='relu'),\n",
    "    layers.BatchNormalization(),\n",
    "    \n",
    "    layers.Conv3D(64,(3,3,3), padding='same', activation='relu'),\n",
    "    layers.BatchNormalization(),\n",
    "    layers.MaxPooling3D(pool_size=(2, 2, 2)),\n",
    "    layers.Dropout(0.25),\n",
    "    \n",
    "    layers.Conv3D(64,(3,3,3), padding='same',activation='relu'),\n",
    "    layers.BatchNormalization(),\n",
    "    layers.Flatten(),\n",
    "    layers.Dense(256, activation='relu'),\n",
    "    layers.Dropout(0.5),\n",
    "    layers.Dense(num_classes, activation='softmax')\n",
    "])\n"
   ]
  },
  {
   "cell_type": "code",
   "execution_count": 10,
   "metadata": {},
   "outputs": [],
   "source": [
    "#cnn_conv3d_model.summary()"
   ]
  },
  {
   "cell_type": "markdown",
   "metadata": {},
   "source": [
    "Now that you have written the model, the next step is to `compile` the model. When you print the `summary` of the model, you'll see the total number of parameters you have to train."
   ]
  },
  {
   "cell_type": "code",
   "execution_count": 11,
   "metadata": {
    "scrolled": true
   },
   "outputs": [
    {
     "name": "stdout",
     "output_type": "stream",
     "text": [
      "Model: \"sequential\"\n",
      "_________________________________________________________________\n",
      " Layer (type)                Output Shape              Param #   \n",
      "=================================================================\n",
      " conv3d (Conv3D)             (None, 7, 64, 64, 32)     2624      \n",
      "                                                                 \n",
      " batch_normalization (BatchN  (None, 7, 64, 64, 32)    128       \n",
      " ormalization)                                                   \n",
      "                                                                 \n",
      " conv3d_1 (Conv3D)           (None, 7, 64, 64, 64)     55360     \n",
      "                                                                 \n",
      " batch_normalization_1 (Batc  (None, 7, 64, 64, 64)    256       \n",
      " hNormalization)                                                 \n",
      "                                                                 \n",
      " max_pooling3d (MaxPooling3D  (None, 3, 32, 32, 64)    0         \n",
      " )                                                               \n",
      "                                                                 \n",
      " dropout (Dropout)           (None, 3, 32, 32, 64)     0         \n",
      "                                                                 \n",
      " conv3d_2 (Conv3D)           (None, 3, 32, 32, 64)     110656    \n",
      "                                                                 \n",
      " batch_normalization_2 (Batc  (None, 3, 32, 32, 64)    256       \n",
      " hNormalization)                                                 \n",
      "                                                                 \n",
      " flatten (Flatten)           (None, 196608)            0         \n",
      "                                                                 \n",
      " dense (Dense)               (None, 256)               50331904  \n",
      "                                                                 \n",
      " dropout_1 (Dropout)         (None, 256)               0         \n",
      "                                                                 \n",
      " dense_1 (Dense)             (None, 5)                 1285      \n",
      "                                                                 \n",
      "=================================================================\n",
      "Total params: 50,502,469\n",
      "Trainable params: 50,502,149\n",
      "Non-trainable params: 320\n",
      "_________________________________________________________________\n",
      "None\n"
     ]
    }
   ],
   "source": [
    "# Compiling the model\n",
    "optimiser = 'adam' #write your optimizer\n",
    "#model.compile(optimizer=optimiser, loss='categorical_crossentropy', metrics=['categorical_accuracy'])\n",
    "cnn_conv3d_model.compile(optimizer=optimiser, loss='categorical_crossentropy', metrics=['accuracy'])\n",
    "print (cnn_conv3d_model.summary())"
   ]
  },
  {
   "cell_type": "markdown",
   "metadata": {},
   "source": [
    "Let us create the `train_generator` and the `val_generator` which will be used in `.fit_generator`."
   ]
  },
  {
   "cell_type": "code",
   "execution_count": 12,
   "metadata": {},
   "outputs": [],
   "source": [
    "train_generator = generator(train_path, train_doc, batch_size)\n",
    "val_generator = generator(val_path, val_doc, batch_size)"
   ]
  },
  {
   "cell_type": "code",
   "execution_count": 13,
   "metadata": {},
   "outputs": [
    {
     "name": "stdout",
     "output_type": "stream",
     "text": [
      "WARNING:tensorflow:`period` argument is deprecated. Please use `save_freq` to specify the frequency in number of batches seen.\n"
     ]
    }
   ],
   "source": [
    "model_name = 'model_init' + '_' + str(curr_dt_time).replace(' ','').replace(':','_') + '/'\n",
    "    \n",
    "if not os.path.exists(model_name):\n",
    "    os.mkdir(model_name)\n",
    "        \n",
    "filepath = model_name + 'model-{epoch:05d}-{loss:.5f}-{accuracy:.5f}-{val_loss:.5f}-{val_accuracy:.5f}.h5'\n",
    "\n",
    "checkpoint = ModelCheckpoint(filepath, monitor='val_loss', verbose=1, save_best_only=False, save_weights_only=False, mode='auto', period=1)\n",
    "\n",
    "#LR = # write the REducelronplateau code here\n",
    "#Reference : https://keras.io/api/callbacks/reduce_lr_on_plateau/\n",
    "LR = ReduceLROnPlateau(monitor='val_loss', factor=0.1,patience=3, min_lr=0.001, verbose = 0, mode = 'auto', cooldown = 0)\n",
    "callbacks_list = [checkpoint, LR]"
   ]
  },
  {
   "cell_type": "markdown",
   "metadata": {},
   "source": [
    "The `steps_per_epoch` and `validation_steps` are used by `fit_generator` to decide the number of next() calls it need to make."
   ]
  },
  {
   "cell_type": "code",
   "execution_count": 14,
   "metadata": {},
   "outputs": [],
   "source": [
    "if (num_train_sequences%batch_size) == 0:\n",
    "    steps_per_epoch = int(num_train_sequences/batch_size)\n",
    "else:\n",
    "    steps_per_epoch = (num_train_sequences//batch_size) + 1\n",
    "\n",
    "if (num_val_sequences%batch_size) == 0:\n",
    "    validation_steps = int(num_val_sequences/batch_size)\n",
    "else:\n",
    "    validation_steps = (num_val_sequences//batch_size) + 1"
   ]
  },
  {
   "cell_type": "markdown",
   "metadata": {},
   "source": [
    "Let us now fit the model. This will start training the model and with the help of the checkpoints, you'll be able to save the model at the end of each epoch."
   ]
  },
  {
   "cell_type": "code",
   "execution_count": 15,
   "metadata": {},
   "outputs": [],
   "source": [
    "#model.fit_generator(train_generator, steps_per_epoch=steps_per_epoch, epochs=num_epochs, verbose=1, \n",
    "                    #callbacks=callbacks_list, validation_data=val_generator, \n",
    "                    #validation_steps=validation_steps, class_weight=None, workers=1, initial_epoch=0)"
   ]
  },
  {
   "cell_type": "code",
   "execution_count": 16,
   "metadata": {},
   "outputs": [],
   "source": [
    "#cnn_conv3d_model.fit(train_generator, steps_per_epoch=steps_per_epoch, epochs=num_epochs, verbose=1, \n",
    "                    #callbacks=callbacks_list, validation_data=val_generator, \n",
    "                    #validation_steps=validation_steps, class_weight=None, workers=1, initial_epoch=0)"
   ]
  },
  {
   "cell_type": "code",
   "execution_count": 17,
   "metadata": {},
   "outputs": [
    {
     "data": {
      "text/plain": [
       "'\\nhistory = cnn_conv3d_model.fit(\\n  train_generator,\\n  validation_data=val_generator,\\n  epochs=num_epochs\\n)\\n'"
      ]
     },
     "execution_count": 17,
     "metadata": {},
     "output_type": "execute_result"
    }
   ],
   "source": [
    "'''\n",
    "history = cnn_conv3d_model.fit(\n",
    "  train_generator,\n",
    "  validation_data=val_generator,\n",
    "  epochs=num_epochs\n",
    ")\n",
    "'''"
   ]
  },
  {
   "cell_type": "markdown",
   "metadata": {},
   "source": [
    "## CNN2d + RNN"
   ]
  },
  {
   "cell_type": "code",
   "execution_count": 18,
   "metadata": {},
   "outputs": [],
   "source": [
    "from keras.models import Sequential, Model\n",
    "from keras.layers.convolutional import Conv2D, Conv3D, MaxPooling2D, MaxPooling3D\n",
    "from keras.layers import ConvLSTM2D\n",
    "from keras.layers import Dense, GRU, Flatten, TimeDistributed, Bidirectional, BatchNormalization, Activation, Dropout, GlobalAveragePooling2D, GlobalAveragePooling3D, ConvLSTM2D\n",
    "\n",
    "cnn_conv2d_rnn_LTSM_model = Sequential()\n",
    "cnn_conv2d_rnn_LTSM_model.add(TimeDistributed(Conv2D(16, (3,3), activation='relu'), input_shape=Input_shape))\n",
    "cnn_conv2d_rnn_LTSM_model.add(BatchNormalization())\n",
    "cnn_conv2d_rnn_LTSM_model.add(TimeDistributed(Conv2D(32, (3,3), activation='relu')))\n",
    "cnn_conv2d_rnn_LTSM_model.add(BatchNormalization())\n",
    "cnn_conv2d_rnn_LTSM_model.add(ConvLSTM2D(16, kernel_size = 3, return_sequences=False))\n",
    "cnn_conv2d_rnn_LTSM_model.add(BatchNormalization())\n",
    "cnn_conv2d_rnn_LTSM_model.add(TimeDistributed(Dense(64, activation='relu')))\n",
    "cnn_conv2d_rnn_LTSM_model.add(BatchNormalization())\n",
    "cnn_conv2d_rnn_LTSM_model.add(GlobalAveragePooling2D())\n",
    "cnn_conv2d_rnn_LTSM_model.add(Dense(64, activation='relu'))\n",
    "cnn_conv2d_rnn_LTSM_model.add(Dense(5, activation='softmax'))"
   ]
  },
  {
   "cell_type": "code",
   "execution_count": 19,
   "metadata": {},
   "outputs": [],
   "source": [
    "#cnn_conv2d_rnn_LTSM_model.summary()"
   ]
  },
  {
   "cell_type": "code",
   "execution_count": 20,
   "metadata": {},
   "outputs": [
    {
     "name": "stdout",
     "output_type": "stream",
     "text": [
      "Model: \"sequential\"\n",
      "_________________________________________________________________\n",
      " Layer (type)                Output Shape              Param #   \n",
      "=================================================================\n",
      " conv3d (Conv3D)             (None, 7, 64, 64, 32)     2624      \n",
      "                                                                 \n",
      " batch_normalization (BatchN  (None, 7, 64, 64, 32)    128       \n",
      " ormalization)                                                   \n",
      "                                                                 \n",
      " conv3d_1 (Conv3D)           (None, 7, 64, 64, 64)     55360     \n",
      "                                                                 \n",
      " batch_normalization_1 (Batc  (None, 7, 64, 64, 64)    256       \n",
      " hNormalization)                                                 \n",
      "                                                                 \n",
      " max_pooling3d (MaxPooling3D  (None, 3, 32, 32, 64)    0         \n",
      " )                                                               \n",
      "                                                                 \n",
      " dropout (Dropout)           (None, 3, 32, 32, 64)     0         \n",
      "                                                                 \n",
      " conv3d_2 (Conv3D)           (None, 3, 32, 32, 64)     110656    \n",
      "                                                                 \n",
      " batch_normalization_2 (Batc  (None, 3, 32, 32, 64)    256       \n",
      " hNormalization)                                                 \n",
      "                                                                 \n",
      " flatten (Flatten)           (None, 196608)            0         \n",
      "                                                                 \n",
      " dense (Dense)               (None, 256)               50331904  \n",
      "                                                                 \n",
      " dropout_1 (Dropout)         (None, 256)               0         \n",
      "                                                                 \n",
      " dense_1 (Dense)             (None, 5)                 1285      \n",
      "                                                                 \n",
      "=================================================================\n",
      "Total params: 50,502,469\n",
      "Trainable params: 50,502,149\n",
      "Non-trainable params: 320\n",
      "_________________________________________________________________\n",
      "None\n"
     ]
    }
   ],
   "source": [
    "# Compiling the model\n",
    "optimiser = 'adam' #write your optimizer\n",
    "cnn_conv2d_rnn_LTSM_model.compile(optimizer=optimiser, loss='categorical_crossentropy', metrics=['accuracy'])\n",
    "print (cnn_conv3d_model.summary())"
   ]
  },
  {
   "cell_type": "code",
   "execution_count": 21,
   "metadata": {},
   "outputs": [
    {
     "name": "stdout",
     "output_type": "stream",
     "text": [
      "\n",
      "Source path =  Project_data/train ; batch size = 16\n",
      "Epoch 1/5\n",
      "42/42 [==============================] - ETA: 0s - loss: 1.6096 - accuracy: 0.1890\n",
      "Source path =  Project_data/val ; batch size = 16\n",
      "\n",
      "Epoch 1: saving model to model_init_2023-03-0618_10_37.340235\\model-00001-1.60957-0.18899-1.60926-0.21429.h5\n",
      "42/42 [==============================] - 71s 2s/step - loss: 1.6096 - accuracy: 0.1890 - val_loss: 1.6093 - val_accuracy: 0.2143 - lr: 0.0010\n",
      "Epoch 2/5\n",
      "42/42 [==============================] - ETA: 0s - loss: 1.6094 - accuracy: 0.2158\n",
      "Epoch 2: saving model to model_init_2023-03-0618_10_37.340235\\model-00002-1.60937-0.21577-1.60891-0.19643.h5\n",
      "42/42 [==============================] - 66s 2s/step - loss: 1.6094 - accuracy: 0.2158 - val_loss: 1.6089 - val_accuracy: 0.1964 - lr: 0.0010\n",
      "Epoch 3/5\n",
      "42/42 [==============================] - ETA: 0s - loss: 1.6093 - accuracy: 0.1979\n",
      "Epoch 3: saving model to model_init_2023-03-0618_10_37.340235\\model-00003-1.60935-0.19792-1.60892-0.24107.h5\n",
      "42/42 [==============================] - 67s 2s/step - loss: 1.6093 - accuracy: 0.1979 - val_loss: 1.6089 - val_accuracy: 0.2411 - lr: 0.0010\n",
      "Epoch 4/5\n",
      "42/42 [==============================] - ETA: 0s - loss: 1.6089 - accuracy: 0.2054\n",
      "Epoch 4: saving model to model_init_2023-03-0618_10_37.340235\\model-00004-1.60888-0.20536-1.60824-0.22321.h5\n",
      "42/42 [==============================] - 69s 2s/step - loss: 1.6089 - accuracy: 0.2054 - val_loss: 1.6082 - val_accuracy: 0.2232 - lr: 0.0010\n",
      "Epoch 5/5\n",
      "42/42 [==============================] - ETA: 0s - loss: 1.6095 - accuracy: 0.1771\n",
      "Epoch 5: saving model to model_init_2023-03-0618_10_37.340235\\model-00005-1.60952-0.17708-1.60806-0.23214.h5\n",
      "42/42 [==============================] - 70s 2s/step - loss: 1.6095 - accuracy: 0.1771 - val_loss: 1.6081 - val_accuracy: 0.2321 - lr: 0.0010\n"
     ]
    }
   ],
   "source": [
    "history = cnn_conv2d_rnn_LTSM_model.fit(train_generator, steps_per_epoch=steps_per_epoch, epochs=num_epochs, verbose=1, \n",
    "                    callbacks=callbacks_list, validation_data=val_generator, \n",
    "                    validation_steps=validation_steps, class_weight=None, workers=1, initial_epoch=0)"
   ]
  },
  {
   "cell_type": "code",
   "execution_count": 22,
   "metadata": {},
   "outputs": [
    {
     "ename": "NameError",
     "evalue": "name 'plt' is not defined",
     "output_type": "error",
     "traceback": [
      "\u001b[1;31m---------------------------------------------------------------------------\u001b[0m",
      "\u001b[1;31mNameError\u001b[0m                                 Traceback (most recent call last)",
      "Input \u001b[1;32mIn [22]\u001b[0m, in \u001b[0;36m<cell line: 1>\u001b[1;34m()\u001b[0m\n\u001b[1;32m----> 1\u001b[0m \u001b[43mplt\u001b[49m\u001b[38;5;241m.\u001b[39mfigure(figsize\u001b[38;5;241m=\u001b[39m(\u001b[38;5;241m20\u001b[39m,\u001b[38;5;241m6\u001b[39m))\n\u001b[0;32m      2\u001b[0m ax1 \u001b[38;5;241m=\u001b[39m plt\u001b[38;5;241m.\u001b[39msubplot(\u001b[38;5;241m121\u001b[39m)\n\u001b[0;32m      3\u001b[0m ax1 \u001b[38;5;241m=\u001b[39m plt\u001b[38;5;241m.\u001b[39mplot(history\u001b[38;5;241m.\u001b[39mhistory[\u001b[38;5;124m'\u001b[39m\u001b[38;5;124mloss\u001b[39m\u001b[38;5;124m'\u001b[39m])\n",
      "\u001b[1;31mNameError\u001b[0m: name 'plt' is not defined"
     ]
    }
   ],
   "source": [
    "plt.figure(figsize=(20,6))\n",
    "ax1 = plt.subplot(121)\n",
    "ax1 = plt.plot(history.history['loss'])\n",
    "ax1 = plt.plot(history.history['val_loss'])\n",
    "plt.title('model loss')\n",
    "plt.ylabel('loss')\n",
    "plt.xlabel('epoch')\n",
    "plt.legend(['train', 'validation'], loc='lower left')\n",
    "ax2 = plt.subplot(122)\n",
    "ax2 = plt.plot(history.history['accuracy'])\n",
    "ax2 = plt.plot(history.history['val_accuracy'])\n",
    "plt.title('model accuracy')\n",
    "plt.ylabel('categorical_accuracy')\n",
    "plt.xlabel('epoch')\n",
    "plt.legend(['train', 'validation'], loc='lower left')"
   ]
  }
 ],
 "metadata": {
  "kernelspec": {
   "display_name": "Python 3 (ipykernel)",
   "language": "python",
   "name": "python3"
  },
  "language_info": {
   "codemirror_mode": {
    "name": "ipython",
    "version": 3
   },
   "file_extension": ".py",
   "mimetype": "text/x-python",
   "name": "python",
   "nbconvert_exporter": "python",
   "pygments_lexer": "ipython3",
   "version": "3.9.12"
  }
 },
 "nbformat": 4,
 "nbformat_minor": 2
}
